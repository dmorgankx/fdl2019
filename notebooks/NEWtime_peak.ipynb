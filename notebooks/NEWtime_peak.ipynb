{
 "cells": [
  {
   "cell_type": "markdown",
   "metadata": {},
   "source": [
    "# Time to Peak"
   ]
  },
  {
   "cell_type": "code",
   "execution_count": 1,
   "metadata": {},
   "outputs": [],
   "source": [
    "\\c 20 70\n",
    "\\l ml/ml.q\n",
    ".ml.loadfile`:init.q"
   ]
  },
  {
   "cell_type": "code",
   "execution_count": 2,
   "metadata": {},
   "outputs": [],
   "source": [
    "/convert site numbers to 8 digits or longer\n",
    "prepsite:{`${$[7=count x;\"0\",;]x}each string x}"
   ]
  },
  {
   "cell_type": "code",
   "execution_count": 3,
   "metadata": {},
   "outputs": [],
   "source": [
    "/functions to read in nlcd data\n",
    "nlcdtyp:(\"SFFFFFSFFSFSFFFFSFSSFSSFFFSFFSFF\";enlist\",\")\n",
    "nlcupd:{[y;t]\n",
    " col:`site_no`INTPTLAT`INTPTLON`Measure`REACHCODE`distance`imp`year;\n",
    " impcol:`$\"imp_nlcd_\",string 2000+y;\n",
    " ?[t;();0b;col!((prepsite;`SOURCE_FEA);`INTPTLAT;`INTPTLON;`Measure;`REACHCODE;`distance;impcol;y)]}\n",
    "nlcdread:{nlcupd[x]nlcdtyp 0:hsym`$\"data/snap_sampled_imp_nlcd_\",string[2000+x],\".csv\"}"
   ]
  },
  {
   "cell_type": "code",
   "execution_count": 4,
   "metadata": {},
   "outputs": [],
   "source": [
    "/nlcd data for 2006, 2011 and 2016\n",
    "nlcd:raze nlcdread each 6 11 16"
   ]
  },
  {
   "cell_type": "code",
   "execution_count": 5,
   "metadata": {},
   "outputs": [],
   "source": [
    "/remaining datasets\n",
    "basin:(\"S\",242#\"F\";enlist\",\")0:`:data/gages_with_basin_attr.csv\n",
    "maxht:(\"SDF\";enlist\",\")0:`:data/max_str_ht.csv\n",
    "sites:exec prepsite site_no from(27#\"S\";enlist\",\")0:`:data/usgs_gage_subset.csv"
   ]
  },
  {
   "cell_type": "code",
   "execution_count": 6,
   "metadata": {},
   "outputs": [],
   "source": [
    "\\l t_p"
   ]
  },
  {
   "cell_type": "code",
   "execution_count": 7,
   "metadata": {},
   "outputs": [
    {
     "name": "stdout",
     "output_type": "stream",
     "text": [
      "date       site_no  lat      lon       start_time              end_..\n",
      "-------------------------------------------------------------------..\n",
      "2009.07.02 01377500 40.99278 -74.02111 2009.07.02T15:45:00.000 2009..\n",
      "2009.07.02 01397000 40.57222 -74.86806 2009.07.02T11:00:00.000 2009..\n",
      "2009.07.02 01396500 40.67778 -74.87917 2009.07.02T08:30:00.000 2009..\n",
      "2009.07.07 06478500 43.18583 -97.63528 2009.07.07T12:45:00.000 2009..\n",
      "2009.07.10 06478690 43.41556 -97.20472 2009.07.10T09:00:00.000 2009..\n",
      "2009.07.11 04215000 42.89    -78.64528 2009.07.11T21:45:00.000 2009..\n",
      "2009.07.11 04215500 42.82972 -78.77528 2009.07.11T21:15:00.000 2009..\n",
      "2009.07.15 06438500 44.52944 -101.9297 2009.07.15T01:00:00.000 2009..\n",
      "2009.07.18 06834000 40.35167 -101.1236 2009.07.18T04:00:00.000 2009..\n",
      "2009.07.21 01391000 40.99778 -74.11194 2009.07.21T18:45:00.000 2009..\n",
      "2009.07.23 02162093 34.02722 -81.04194 2009.07.23T04:00:00.000 2009..\n",
      "2009.07.29 01391000 40.99778 -74.11194 2009.07.29T00:30:00.000 2009..\n",
      "2009.07.29 01394500 40.6875  -74.31167 2009.07.29T22:15:00.000 2009..\n",
      "2009.07.30 04280450 43.46389 -73.28472 2009.07.30T08:15:00.000 2009..\n",
      "2009.07.30 01362500 42.01417 -74.27083 2009.07.30T06:30:00.000 2009..\n",
      "..\n"
     ]
    }
   ],
   "source": [
    "show peak:select from peak where date>=2009.07.01,site_no in sites"
   ]
  },
  {
   "cell_type": "code",
   "execution_count": 8,
   "metadata": {},
   "outputs": [],
   "source": [
    "/read in precipall data\n",
    "ppcols:`site_no`long`lat`elv`date`ppt\n",
    "ppfiles:hsym`$\"../data/prism/\",/:string key`:../data/prism\n",
    "precipall:`date xasc ppcols xcol -1_raze{10_(\"SFFFDF\";enlist\",\")0:x}each ppfiles\n",
    "precipall:update prepsite site_no from delete from precipall where site_no=`"
   ]
  },
  {
   "cell_type": "code",
   "execution_count": 9,
   "metadata": {},
   "outputs": [],
   "source": [
    "/driverless feature lag function\n",
    "featurelag:{[x;c;l]\n",
    " if[(::)~c;c:i.fndcols[x;\"f\"]];\n",
    " v:raze{y xprev'x}[x c,:()]each l,:();\n",
    " sl:{$[x<0;\"neg_\",1_;]string x}each l;  / add to OG function\n",
    " max[l]_flip flip[x],(raze`$string[c],\\:/:\"_lag_\",/:sl)!v}"
   ]
  },
  {
   "cell_type": "code",
   "execution_count": 10,
   "metadata": {},
   "outputs": [],
   "source": [
    "/add lag columns (past and future)\n",
    "psite:exec distinct site_no from precipall\n",
    "pptlag:{[t;l;s]featurelag[;`ppt;l]select from t where site_no=s}\n",
    "precipall_fut:raze pptlag[precipall;(til[21]-10)except 0]each psite\n",
    "precipall_fut:update avgppt:60 mavg ppt by site_no from precipall_fut"
   ]
  },
  {
   "cell_type": "code",
   "execution_count": 11,
   "metadata": {},
   "outputs": [],
   "source": [
    "/join tables\n",
    "peak_basin:(peak lj`site_no`date xkey precipall_fut)ij`site_no xkey basin"
   ]
  },
  {
   "cell_type": "code",
   "execution_count": 31,
   "metadata": {},
   "outputs": [],
   "source": [
    "/add year column and merge\n",
    "stryear:{$[x<2011;6;x<2016;11;16]}\n",
    "merged:update year:stryear each`year$date from peak_basin\n",
    "peak_bas_imp:merged ij`site_no`year xkey nlcd"
   ]
  },
  {
   "cell_type": "code",
   "execution_count": 32,
   "metadata": {},
   "outputs": [],
   "source": [
    "/time tab, with sin and cos times and co-ords\n",
    "pi:acos -1\n",
    "time_peak:update month:`mm$date from peak_bas_imp\n",
    "time_peak:update sin_t:sin 2*pi*month%11,cos_t:cos 2*pi*month%11,\n",
    " x:cos[lat]*cos lon,y:cos[lat]*sin lon,z:sin lat from time_peak\n",
    "time_peak:update delta_peak:24*peak_time-start_time from time_peak"
   ]
  },
  {
   "cell_type": "code",
   "execution_count": 33,
   "metadata": {},
   "outputs": [],
   "source": [
    "/lag height columns\n",
    "htlag:{[t;i]d:i 0;c:i 1;featurelag[;`height;1 2]select from t where date=d,catch=c}\n",
    "catchht:update catch:`$2#'string site_no from maxht\n",
    "htinput:(cross/)(distinct catchht`date;distinct catchht`catch)\n",
    "upstr:raze htlag[catchht]each htinput"
   ]
  },
  {
   "cell_type": "code",
   "execution_count": 34,
   "metadata": {},
   "outputs": [],
   "source": [
    "time_peak:time_peak ij`site_no`date xkey upstr"
   ]
  },
  {
   "cell_type": "code",
   "execution_count": 35,
   "metadata": {},
   "outputs": [],
   "source": [
    "opp:`ppt`ppt_lag_1`ppt_lag_2`ppt_lag_3`ppt_lag_4`ppt_lag_5`ppt_lag_6`ppt_lag_7`ppt_lag_8`ppt_lag_9`ppt_lag_10\n",
    "npp:`prev1`prev2`prev3`prev4`prev5`prev6`prev7`prev8`prev9`prev10\n",
    "oht:`height`height_lag_1`height_lag_2"
   ]
  },
  {
   "cell_type": "code",
   "execution_count": 36,
   "metadata": {},
   "outputs": [],
   "source": [
    "maxlag:{[t;oc;nc]t,'flip nc!{max each?[x;();0b;y!y]}[t]each 1_{x,y}\\[oc]}"
   ]
  },
  {
   "cell_type": "code",
   "execution_count": 39,
   "metadata": {},
   "outputs": [],
   "source": [
    "/find max of each set of lag cols\n",
    "time_peak:maxlag[time_peak;opp;npp]\n",
    "upstr:maxlag[upstr;oht;`upst1`upst2]"
   ]
  },
  {
   "cell_type": "code",
   "execution_count": 40,
   "metadata": {},
   "outputs": [],
   "source": [
    "/mark training and testing sets\n",
    "\\S 42\n",
    "sitesplit:`trn`tst!s(0,floor n*1-.2)_neg[n]?n:count s:distinct time_peak`site_no\n",
    "time_peak:update split:{$[x in sitesplit`trn;`trn;`tst]}each site_no from time_peak"
   ]
  },
  {
   "cell_type": "code",
   "execution_count": 41,
   "metadata": {},
   "outputs": [],
   "source": [
    "/define classes\n",
    "time_peak:update target:{$[x<3.12;0;x<7.44;1;x<18;2;3]}each delta_peak from time_peak"
   ]
  },
  {
   "cell_type": "code",
   "execution_count": 42,
   "metadata": {},
   "outputs": [],
   "source": [
    "\\l ../gagesdir/gagesdir"
   ]
  },
  {
   "cell_type": "code",
   "execution_count": 43,
   "metadata": {},
   "outputs": [],
   "source": [
    "maxmovingavg:{[x;c;l]\n",
    " v:max each raze{y mavg'x}[x c,:()]each l,:();\n",
    " (raze`$\"wind_\",/:string l)!v}"
   ]
  },
  {
   "cell_type": "code",
   "execution_count": 44,
   "metadata": {
    "scrolled": true
   },
   "outputs": [],
   "source": [
    "/find max moving avg of wind data\n",
    "sdt:value each select site_no,start_time from time_peak\n",
    "strtabs:{sn:x 0;st:x 1;r:(st;st+1);select from str where date within\"d\"$r,datetime within r,sn=`$site_no}each sdt\n",
    "wind_ht_24:maxmovingavg[;`height;2 4 12 48]each strtabs"
   ]
  },
  {
   "cell_type": "code",
   "execution_count": 45,
   "metadata": {},
   "outputs": [],
   "source": [
    "time_peak_ht:time_peak,'wind_ht_24"
   ]
  },
  {
   "cell_type": "markdown",
   "metadata": {},
   "source": [
    "## Multi-Class"
   ]
  },
  {
   "cell_type": "code",
   "execution_count": 46,
   "metadata": {},
   "outputs": [],
   "source": [
    "mattab:{flip value flip x}"
   ]
  },
  {
   "cell_type": "code",
   "execution_count": 47,
   "metadata": {},
   "outputs": [
    {
     "name": "stderr",
     "output_type": "stream",
     "text": [
      "/home/deanna/anaconda3/lib/python3.6/site-packages/sklearn/ensemble/weight_boosting.py:29: DeprecationWarning: numpy.core.umath_tests is an internal NumPy module and should not be imported. It will be removed in a future NumPy release.\n",
      "  from numpy.core.umath_tests import inner1d\n"
     ]
    }
   ],
   "source": [
    "plt:.p.import`matplotlib.pyplot\n",
    "fetch:.p.import[`sklearn.datasets]`:fetch_mldata\n",
    "rfc:.p.import[`sklearn.ensemble]`:RandomForestClassifier\n",
    "ovr:.p.import[`sklearn.multiclass]`:OneVsRestClassifier\n",
    "pr_curve:.p.import[`sklearn.metrics]`:precision_recall_curve\n",
    "avg_precision:.p.import[`sklearn.metrics]`:average_precision_score"
   ]
  },
  {
   "cell_type": "code",
   "execution_count": 50,
   "metadata": {},
   "outputs": [],
   "source": [
    "cols_to_include:\n",
    " `imp`CatAreaSqKm`WsAreaSqKm`CatAreaSqKmRp100`WsAreaSqKmRp100`ElevCat`ElevWs,\n",
    " `WtDepCat`WtDepWs`OmCat`OmWs`PermCat`PermWs`RckDepCat`RckDepWs`ClayCat`ClayWs,\n",
    " `SandCat`SandWs`RunoffCat`RunoffWs`WetIndexCat`WetIndexWs`BFICat`BFIWs,\n",
    " `ppt`avgppt`ppt_lag_neg_1`ppt_lag_neg_2`upst1`upst2,\n",
    " `sin_t`cos_t`x`y`z,\n",
    " `prev1`prev2`prev3`prev4`prev5`prev6`prev7`prev8`prev9`prev10,\n",
    " `next1`next2`next3`next4`next5`next6`next7`next8`next9`next10,\n",
    " `wind_2`wind_4`wind_12`wind_48"
   ]
  },
  {
   "cell_type": "code",
   "execution_count": 63,
   "metadata": {},
   "outputs": [],
   "source": [
    "time_peak_clean:time_peak_ht where not any each null time_peak_ht"
   ]
  },
  {
   "cell_type": "code",
   "execution_count": 65,
   "metadata": {},
   "outputs": [
    {
     "data": {
      "text/plain": [
       "date       site_no  lat     lon       start_time              end_t..\n",
       "-------------------------------------------------------------------..\n",
       "2009.11.03 02037500 37.5632 -77.54722 2009.11.03T00:30:00.000 2009...\n",
       "2009.11.12 02037500 37.5632 -77.54722 2009.11.12T20:00:00.000 2009...\n",
       "2009.11.12 02055000 37.2585 -79.93889 2009.11.12T10:15:00.000 2009...\n",
       "2009.11.12 02075045 36.5626 -79.37    2009.11.12T01:00:00.000 2009...\n",
       "2009.11.12 02060500 37.1046 -79.29556 2009.11.12T11:30:00.000 2009...\n",
       "2009.11.13 02047000 36.7704 -77.16639 2009.11.13T23:45:00.000 2009...\n",
       "2009.11.20 02037500 37.5632 -77.54722 2009.11.20T16:00:00.000 2009...\n",
       "2009.12.04 02037500 37.5632 -77.54722 2009.12.04T03:30:00.000 2009...\n",
       "2009.12.06 02047000 36.7704 -77.16639 2009.12.06T02:15:00.000 2009...\n",
       "2009.12.09 02037500 37.5632 -77.54722 2009.12.09T13:15:00.000 2009...\n",
       "2009.12.09 01667500 38.3504 -77.97528 2009.12.09T17:30:00.000 2009...\n",
       "2009.12.09 01664000 38.5307 -77.81389 2009.12.09T16:15:00.000 2009...\n",
       "2009.12.09 02055000 37.2585 -79.93889 2009.12.09T12:45:00.000 2009...\n",
       "2009.12.09 03527000 36.6487 -82.75056 2009.12.09T16:00:00.000 2009...\n",
       "2009.12.10 01668000 38.3085 -77.52944 2009.12.10T02:15:00.000 2009...\n",
       "..\n"
      ]
     },
     "execution_count": 65,
     "metadata": {},
     "output_type": "execute_result"
    }
   ],
   "source": [
    "time_peak_clean"
   ]
  },
  {
   "cell_type": "code",
   "execution_count": 55,
   "metadata": {},
   "outputs": [
    {
     "data": {
      "text/plain": [
       "1100111100000011000001100000000000000000000000000000000000000000000..\n"
      ]
     },
     "execution_count": 55,
     "metadata": {},
     "output_type": "execute_result"
    }
   ],
   "source": [
    "time_peak_clean:delete from time_peak_ht where i in where any flip null value each time_peak_ht"
   ]
  }
 ],
 "metadata": {
  "kernelspec": {
   "display_name": "Q (kdb+)",
   "language": "q",
   "name": "qpk"
  },
  "language_info": {
   "file_extension": ".q",
   "mimetype": "text/x-q",
   "name": "q",
   "version": "3.6.0"
  }
 },
 "nbformat": 4,
 "nbformat_minor": 2
}
